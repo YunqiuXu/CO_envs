{
 "cells": [
  {
   "cell_type": "markdown",
   "metadata": {},
   "source": [
    "# Preview of sample data\n",
    "\n",
    "+ Problems: TSP, CVRP, SDVRP, OP (distance-based), PCTSP (deterministic)\n",
    "+ Each dataset contains 15 samples, each with batch size 1\n",
    "+ Each sample contains solution and cost obtained by AM-90epochs"
   ]
  },
  {
   "cell_type": "code",
   "execution_count": 2,
   "metadata": {},
   "outputs": [],
   "source": [
    "import pickle\n",
    "import numpy as np\n",
    "from glob import glob"
   ]
  },
  {
   "cell_type": "code",
   "execution_count": 3,
   "metadata": {},
   "outputs": [
    {
     "data": {
      "text/plain": [
       "['sample_data/cvrp100.pkl',\n",
       " 'sample_data/cvrp20.pkl',\n",
       " 'sample_data/cvrp50.pkl',\n",
       " 'sample_data/op100_dist.pkl',\n",
       " 'sample_data/op20_dist.pkl',\n",
       " 'sample_data/op50_dist.pkl',\n",
       " 'sample_data/pctsp100_det.pkl',\n",
       " 'sample_data/pctsp20_det.pkl',\n",
       " 'sample_data/pctsp50_det.pkl',\n",
       " 'sample_data/sdvrp100.pkl',\n",
       " 'sample_data/sdvrp20.pkl',\n",
       " 'sample_data/sdvrp50.pkl',\n",
       " 'sample_data/tsp100.pkl',\n",
       " 'sample_data/tsp20.pkl',\n",
       " 'sample_data/tsp50.pkl']"
      ]
     },
     "execution_count": 3,
     "metadata": {},
     "output_type": "execute_result"
    }
   ],
   "source": [
    "folder = \"sample_data\"\n",
    "sorted(glob(\"{}/*.pkl\".format(folder)))"
   ]
  },
  {
   "cell_type": "code",
   "execution_count": 4,
   "metadata": {},
   "outputs": [],
   "source": [
    "def load_sample_data(loadpath):\n",
    "    with open(loadpath, 'rb') as f:\n",
    "        return pickle.load(f)"
   ]
  },
  {
   "cell_type": "markdown",
   "metadata": {},
   "source": [
    "---\n",
    "\n",
    "## 1. TSP"
   ]
  },
  {
   "cell_type": "code",
   "execution_count": 8,
   "metadata": {},
   "outputs": [
    {
     "name": "stdout",
     "output_type": "stream",
     "text": [
      "15\n",
      "dict_keys(['loc', 'solution', 'cost'])\n",
      "===== ===== =====\n",
      "loc\n",
      "(1, 20, 2) float32\n",
      "[[[0.02897924 0.40189856]\n",
      "  [0.25984418 0.36664134]\n",
      "  [0.05830073 0.70064473]\n",
      "  [0.05179739 0.46813923]\n",
      "  [0.67380613 0.33146197]\n",
      "  [0.78370804 0.5630632 ]\n",
      "  [0.7748505  0.82080257]\n",
      "  [0.27927655 0.6817111 ]\n",
      "  [0.28367496 0.6567304 ]\n",
      "  [0.23875582 0.7312845 ]\n",
      "  [0.60122263 0.30432844]\n",
      "  [0.25475216 0.62936187]\n",
      "  [0.9665111  0.7399492 ]\n",
      "  [0.4517179  0.47573084]\n",
      "  [0.78419435 0.15249622]\n",
      "  [0.6662244  0.33432305]\n",
      "  [0.7892904  0.32163972]\n",
      "  [0.52472377 0.6688407 ]\n",
      "  [0.8436147  0.4265083 ]\n",
      "  [0.9561459  0.07697695]]]\n",
      "---------- -----\n",
      "solution\n",
      "(1, 20) int64\n",
      "[[19 16 18  5 12  6 17  8 11  7  9  2  3  0  1 13 10 15  4 14]]\n",
      "---------- -----\n",
      "cost\n",
      "(1,) float32\n",
      "[3.366598]\n",
      "---------- -----\n"
     ]
    }
   ],
   "source": [
    "graph_size = 20 # 20/50/100\n",
    "loadpath = \"{}/tsp{}.pkl\".format(folder, graph_size)\n",
    "sample_data = load_sample_data(loadpath)\n",
    "print(len(sample_data))\n",
    "single_data = sample_data[0]\n",
    "print(single_data.keys())\n",
    "print(\"===== ===== =====\")\n",
    "for key in single_data.keys():\n",
    "    print(key)\n",
    "    value = single_data[key]\n",
    "    print(value.shape, value.dtype)\n",
    "    print(single_data[key])\n",
    "    print(\"---------- -----\")"
   ]
  },
  {
   "cell_type": "markdown",
   "metadata": {},
   "source": [
    "----\n",
    "\n",
    "## CVRP"
   ]
  },
  {
   "cell_type": "code",
   "execution_count": 9,
   "metadata": {},
   "outputs": [
    {
     "name": "stdout",
     "output_type": "stream",
     "text": [
      "15\n",
      "dict_keys(['loc', 'demand', 'depot', 'solution', 'cost'])\n",
      "===== ===== =====\n",
      "loc\n",
      "(1, 20, 2) float32\n",
      "[[[0.02897924 0.40189856]\n",
      "  [0.25984418 0.36664134]\n",
      "  [0.05830073 0.70064473]\n",
      "  [0.05179739 0.46813923]\n",
      "  [0.67380613 0.33146197]\n",
      "  [0.78370804 0.5630632 ]\n",
      "  [0.7748505  0.82080257]\n",
      "  [0.27927655 0.6817111 ]\n",
      "  [0.28367496 0.6567304 ]\n",
      "  [0.23875582 0.7312845 ]\n",
      "  [0.60122263 0.30432844]\n",
      "  [0.25475216 0.62936187]\n",
      "  [0.9665111  0.7399492 ]\n",
      "  [0.4517179  0.47573084]\n",
      "  [0.78419435 0.15249622]\n",
      "  [0.6662244  0.33432305]\n",
      "  [0.7892904  0.32163972]\n",
      "  [0.52472377 0.6688407 ]\n",
      "  [0.8436147  0.4265083 ]\n",
      "  [0.9561459  0.07697695]]]\n",
      "---------- -----\n",
      "demand\n",
      "(1, 20) float32\n",
      "[[0.13333334 0.03333334 0.16666667 0.2        0.1        0.23333333\n",
      "  0.13333334 0.03333334 0.26666668 0.26666668 0.23333333 0.3\n",
      "  0.23333333 0.23333333 0.3        0.13333334 0.03333334 0.1\n",
      "  0.13333334 0.16666667]]\n",
      "---------- -----\n",
      "depot\n",
      "(1, 2) float32\n",
      "[[0.49661124 0.7865359 ]]\n",
      "---------- -----\n",
      "solution\n",
      "(1, 23) int64\n",
      "[[ 7 13  6 19  0 17 20 15  5 16 11  0 14  2  1  4  3  8 18  0  9 12 10]]\n",
      "---------- -----\n",
      "cost\n",
      "(1,) float32\n",
      "[5.5241723]\n",
      "---------- -----\n"
     ]
    }
   ],
   "source": [
    "graph_size = 20 # 20/50/100\n",
    "loadpath = \"{}/cvrp{}.pkl\".format(folder, graph_size)\n",
    "sample_data = load_sample_data(loadpath)\n",
    "print(len(sample_data))\n",
    "single_data = sample_data[0]\n",
    "print(single_data.keys())\n",
    "print(\"===== ===== =====\")\n",
    "for key in single_data.keys():\n",
    "    print(key)\n",
    "    value = single_data[key]\n",
    "    print(value.shape, value.dtype)\n",
    "    print(single_data[key])\n",
    "    print(\"---------- -----\")"
   ]
  },
  {
   "cell_type": "markdown",
   "metadata": {},
   "source": [
    "---\n",
    "\n",
    "## 3. SDVRP"
   ]
  },
  {
   "cell_type": "code",
   "execution_count": 10,
   "metadata": {},
   "outputs": [
    {
     "name": "stdout",
     "output_type": "stream",
     "text": [
      "15\n",
      "dict_keys(['loc', 'demand', 'depot', 'solution', 'cost'])\n",
      "===== ===== =====\n",
      "loc\n",
      "(1, 20, 2) float32\n",
      "[[[0.02897924 0.40189856]\n",
      "  [0.25984418 0.36664134]\n",
      "  [0.05830073 0.70064473]\n",
      "  [0.05179739 0.46813923]\n",
      "  [0.67380613 0.33146197]\n",
      "  [0.78370804 0.5630632 ]\n",
      "  [0.7748505  0.82080257]\n",
      "  [0.27927655 0.6817111 ]\n",
      "  [0.28367496 0.6567304 ]\n",
      "  [0.23875582 0.7312845 ]\n",
      "  [0.60122263 0.30432844]\n",
      "  [0.25475216 0.62936187]\n",
      "  [0.9665111  0.7399492 ]\n",
      "  [0.4517179  0.47573084]\n",
      "  [0.78419435 0.15249622]\n",
      "  [0.6662244  0.33432305]\n",
      "  [0.7892904  0.32163972]\n",
      "  [0.52472377 0.6688407 ]\n",
      "  [0.8436147  0.4265083 ]\n",
      "  [0.9561459  0.07697695]]]\n",
      "---------- -----\n",
      "demand\n",
      "(1, 20) float32\n",
      "[[0.13333334 0.03333334 0.16666667 0.2        0.1        0.23333333\n",
      "  0.13333334 0.03333334 0.26666668 0.26666668 0.23333333 0.3\n",
      "  0.23333333 0.23333333 0.3        0.13333334 0.03333334 0.1\n",
      "  0.13333334 0.16666667]]\n",
      "---------- -----\n",
      "depot\n",
      "(1, 2) float32\n",
      "[[0.49661124 0.7865359 ]]\n",
      "---------- -----\n",
      "solution\n",
      "(1, 23) int64\n",
      "[[ 7 13  6 19 18  0 17 20 15  5 16 11  0 14  2  1  4  3  8  0  9 12 10]]\n",
      "---------- -----\n",
      "cost\n",
      "(1,) float32\n",
      "[5.4201713]\n",
      "---------- -----\n"
     ]
    }
   ],
   "source": [
    "graph_size = 20 # 20/50/100\n",
    "loadpath = \"{}/sdvrp{}.pkl\".format(folder, graph_size)\n",
    "sample_data = load_sample_data(loadpath)\n",
    "print(len(sample_data))\n",
    "single_data = sample_data[0]\n",
    "print(single_data.keys())\n",
    "print(\"===== ===== =====\")\n",
    "for key in single_data.keys():\n",
    "    print(key)\n",
    "    value = single_data[key]\n",
    "    print(value.shape, value.dtype)\n",
    "    print(single_data[key])\n",
    "    print(\"---------- -----\")"
   ]
  },
  {
   "cell_type": "markdown",
   "metadata": {},
   "source": [
    "---\n",
    "\n",
    "## OP (distance)"
   ]
  },
  {
   "cell_type": "code",
   "execution_count": 11,
   "metadata": {},
   "outputs": [
    {
     "name": "stdout",
     "output_type": "stream",
     "text": [
      "15\n",
      "dict_keys(['loc', 'prize', 'depot', 'max_length', 'solution', 'cost'])\n",
      "===== ===== =====\n",
      "loc\n",
      "(1, 20, 2) float32\n",
      "[[[0.02897924 0.40189856]\n",
      "  [0.25984418 0.36664134]\n",
      "  [0.05830073 0.70064473]\n",
      "  [0.05179739 0.46813923]\n",
      "  [0.67380613 0.33146197]\n",
      "  [0.78370804 0.5630632 ]\n",
      "  [0.7748505  0.82080257]\n",
      "  [0.27927655 0.6817111 ]\n",
      "  [0.28367496 0.6567304 ]\n",
      "  [0.23875582 0.7312845 ]\n",
      "  [0.60122263 0.30432844]\n",
      "  [0.25475216 0.62936187]\n",
      "  [0.9665111  0.7399492 ]\n",
      "  [0.4517179  0.47573084]\n",
      "  [0.78419435 0.15249622]\n",
      "  [0.6662244  0.33432305]\n",
      "  [0.7892904  0.32163972]\n",
      "  [0.52472377 0.6688407 ]\n",
      "  [0.8436147  0.4265083 ]\n",
      "  [0.9561459  0.07697695]]]\n",
      "---------- -----\n",
      "prize\n",
      "(1, 20) float32\n",
      "[[0.6  0.43 0.84 0.64 0.46 0.73 0.97 0.75 0.72 0.81 0.39 0.7  1.   0.51\n",
      "  0.44 0.45 0.54 0.73 0.65 0.59]]\n",
      "---------- -----\n",
      "depot\n",
      "(1, 2) float32\n",
      "[[0.4108109  0.00141209]]\n",
      "---------- -----\n",
      "max_length\n",
      "(1,) float32\n",
      "[2.]\n",
      "---------- -----\n",
      "solution\n",
      "(1, 10) int64\n",
      "[[11 16  5 14  9  8 10 12  4  0]]\n",
      "---------- -----\n",
      "cost\n",
      "(1,) float32\n",
      "[-5.43]\n",
      "---------- -----\n"
     ]
    }
   ],
   "source": [
    "graph_size = 20 # 20/50/100\n",
    "loadpath = \"{}/op{}_dist.pkl\".format(folder, graph_size)\n",
    "sample_data = load_sample_data(loadpath)\n",
    "print(len(sample_data))\n",
    "single_data = sample_data[0]\n",
    "print(single_data.keys())\n",
    "print(\"===== ===== =====\")\n",
    "for key in single_data.keys():\n",
    "    print(key)\n",
    "    value = single_data[key]\n",
    "    print(value.shape, value.dtype)\n",
    "    print(single_data[key])\n",
    "    print(\"---------- -----\")"
   ]
  },
  {
   "cell_type": "markdown",
   "metadata": {},
   "source": [
    "----\n",
    "\n",
    "## 5. PCTSP (deterministic)"
   ]
  },
  {
   "cell_type": "code",
   "execution_count": 12,
   "metadata": {},
   "outputs": [
    {
     "name": "stdout",
     "output_type": "stream",
     "text": [
      "15\n",
      "dict_keys(['depot', 'loc', 'penalty', 'deterministic_prize', 'stochastic_prize', 'solution', 'cost'])\n",
      "===== ===== =====\n",
      "depot\n",
      "(1, 2) float32\n",
      "[[0.02897924 0.40189856]]\n",
      "---------- -----\n",
      "loc\n",
      "(1, 20, 2) float32\n",
      "[[[0.25984418 0.36664134]\n",
      "  [0.05830073 0.70064473]\n",
      "  [0.05179739 0.46813923]\n",
      "  [0.67380613 0.33146197]\n",
      "  [0.78370804 0.5630632 ]\n",
      "  [0.7748505  0.82080257]\n",
      "  [0.27927655 0.6817111 ]\n",
      "  [0.28367496 0.6567304 ]\n",
      "  [0.23875582 0.7312845 ]\n",
      "  [0.60122263 0.30432844]\n",
      "  [0.25475216 0.62936187]\n",
      "  [0.9665111  0.7399492 ]\n",
      "  [0.4517179  0.47573084]\n",
      "  [0.78419435 0.15249622]\n",
      "  [0.6662244  0.33432305]\n",
      "  [0.7892904  0.32163972]\n",
      "  [0.52472377 0.6688407 ]\n",
      "  [0.8436147  0.4265083 ]\n",
      "  [0.9561459  0.07697695]\n",
      "  [0.4108109  0.00141209]]]\n",
      "---------- -----\n",
      "penalty\n",
      "(1, 20) float32\n",
      "[[0.162426   0.19256704 0.089279   0.2122985  0.12568365 0.01965183\n",
      "  0.26515996 0.24248451 0.22584116 0.26964933 0.20515801 0.22975351\n",
      "  0.274475   0.1197776  0.03301417 0.07623115 0.1299764  0.13351701\n",
      "  0.14898337 0.23596078]]\n",
      "---------- -----\n",
      "deterministic_prize\n",
      "(1, 20) float32\n",
      "[[0.1320791  0.02606082 0.06995946 0.07647504 0.16086136 0.06372209\n",
      "  0.05816155 0.08392195 0.07456289 0.07537838 0.00215589 0.18909873\n",
      "  0.15322234 0.05268134 0.03760673 0.10347895 0.15697739 0.02823586\n",
      "  0.06223198 0.14182758]]\n",
      "---------- -----\n",
      "stochastic_prize\n",
      "(1, 20) float32\n",
      "[[0.04688615 0.02315895 0.01720318 0.14740704 0.24757212 0.00482217\n",
      "  0.02604976 0.11367079 0.07864931 0.09535435 0.0003922  0.08784764\n",
      "  0.22274506 0.01251171 0.02971845 0.14898431 0.2384513  0.02999149\n",
      "  0.08027247 0.2049182 ]]\n",
      "---------- -----\n",
      "solution\n",
      "(1, 15) int64\n",
      "[[ 1 13 10 15  4 16 18  5 17  8  7  9 11  3  0]]\n",
      "---------- -----\n",
      "cost\n",
      "(1,) float32\n",
      "[3.1341376]\n",
      "---------- -----\n"
     ]
    }
   ],
   "source": [
    "graph_size = 20 # 20/50/100\n",
    "loadpath = \"{}/pctsp{}_det.pkl\".format(folder, graph_size)\n",
    "sample_data = load_sample_data(loadpath)\n",
    "print(len(sample_data))\n",
    "single_data = sample_data[0]\n",
    "print(single_data.keys())\n",
    "print(\"===== ===== =====\")\n",
    "for key in single_data.keys():\n",
    "    print(key)\n",
    "    value = single_data[key]\n",
    "    print(value.shape, value.dtype)\n",
    "    print(single_data[key])\n",
    "    print(\"---------- -----\")"
   ]
  }
 ],
 "metadata": {
  "kernelspec": {
   "display_name": "Python 3",
   "language": "python",
   "name": "python3"
  },
  "language_info": {
   "codemirror_mode": {
    "name": "ipython",
    "version": 3
   },
   "file_extension": ".py",
   "mimetype": "text/x-python",
   "name": "python",
   "nbconvert_exporter": "python",
   "pygments_lexer": "ipython3",
   "version": "3.7.5"
  }
 },
 "nbformat": 4,
 "nbformat_minor": 2
}
